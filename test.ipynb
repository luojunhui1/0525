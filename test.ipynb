{
 "cells": [
  {
   "cell_type": "code",
   "execution_count": 1,
   "metadata": {},
   "outputs": [],
   "source": [
    "from utils.cluster import *\n",
    "from utils.geo import *\n",
    "from utils.loaddata import *\n",
    "from utils.utils import *"
   ]
  },
  {
   "cell_type": "code",
   "execution_count": 2,
   "metadata": {},
   "outputs": [
    {
     "name": "stderr",
     "output_type": "stream",
     "text": [
      "100%|██████████| 20/20 [7:46:19<00:00, 1398.95s/it]  \n"
     ]
    }
   ],
   "source": [
    "from numpy import *\n",
    "from tqdm import *\n",
    "from sklearn.ensemble import IsolationForest\n",
    "\n",
    "def get_centers(labels, flow):\n",
    "    unique_labels = unique(labels)\n",
    "    centers = []\n",
    "    for label in unique_labels:\n",
    "        centers.append(mean(flow[where(labels == label)], axis=0))\n",
    "    return array(centers)\n",
    "\n",
    "def iforest_ad(data, thresh = None):\n",
    "    clf = IsolationForest(contamination=0.02, max_features=2)\n",
    "    clf.fit(data)\n",
    "    anomaly_score = clf.score_samples(data)\n",
    "    anomaly_score = (anomaly_score-min(anomaly_score))/(max(anomaly_score)-min(anomaly_score))\n",
    "    anomaly_score = 1 - anomaly_score\n",
    "    if thresh == None:\n",
    "        thresh = 90\n",
    "    return where(anomaly_score >= percentile(anomaly_score, thresh))[0]\n",
    "\n",
    "# get inflow, outflow data\n",
    "inflow = load('./v2/gen_inflows.npy')\n",
    "outflow = load('./v2/gen_outflows.npy')\n",
    "\n",
    "inorm = norm_by_row(inflow)\n",
    "onorm = norm_by_row(outflow)\n",
    "\n",
    "aggl = load('./v2/aggl.npy')\n",
    "ad_real = load('./v2/gen_anomalies.npy')\n",
    "\n",
    "accs = []\n",
    "recalls = []\n",
    "f1s = []\n",
    "\n",
    "tn = 6*7*24\n",
    "rn = 256\n",
    "\n",
    "for thresh in trange(79, 99):\n",
    "    iforest_ads = array([])\n",
    "    for t in range(0, tn):\n",
    "        ad = array([0]*rn)\n",
    "        for l in range(0, len(unique(aggl))):\n",
    "            label_index = where(aggl == l)[0]\n",
    "            io_norm = stack([inorm[label_index, t], onorm[label_index, t]], axis=1)\n",
    "            ad_index = iforest_ad(io_norm, thresh)\n",
    "            ad[label_index[ad_index]] = 1\n",
    "        iforest_ads = concatenate([iforest_ads, ad])\n",
    "    save('./iforest/' + str(thresh) + '.npy', iforest_ads)\n",
    "    acc, recall = cal_param(iforest_ads, ad_real.T.flatten())\n",
    "    accs.append(acc)\n",
    "    recalls.append(recall)\n",
    "    f1s.append((acc*recall)/(recall + acc))"
   ]
  },
  {
   "cell_type": "code",
   "execution_count": 28,
   "metadata": {},
   "outputs": [
    {
     "name": "stderr",
     "output_type": "stream",
     "text": [
      "100%|██████████| 20/20 [00:03<00:00,  5.62it/s]\n",
      "/opt/conda/envs/Python3/lib/python3.6/site-packages/ipykernel_launcher.py:29: MatplotlibDeprecationWarning: Passing the minor parameter of set_ticks() positionally is deprecated since Matplotlib 3.2; the parameter will become keyword-only two minor releases later.\n"
     ]
    },
    {
     "data": {
      "text/plain": [
       "<Figure size 1440x1440 with 0 Axes>"
      ]
     },
     "metadata": {},
     "output_type": "display_data"
    },
    {
     "data": {
      "image/png": "[encoded data removed]",
      "text/plain": [
       "<Figure size 432x288 with 1 Axes>"
      ]
     },
     "metadata": {
      "needs_background": "light"
     },
     "output_type": "display_data"
    }
   ],
   "source": [
    "accs = []\n",
    "recalls = []\n",
    "f1s = []\n",
    "\n",
    "def cal_param(pred, real):\n",
    "    count= 0.0\n",
    "    for i in range(len(pred)):\n",
    "        if pred[i] == 1 and real[i] >= 1:\n",
    "            count = count + 1\n",
    "    return count/len(where(pred == 1)[0]), count/len(where(real >= 1)[0])\n",
    "\n",
    "ad_real = load('./v2/gen_anomalies.npy')\n",
    "\n",
    "for thresh in trange(79, 99):\n",
    "    iforest_ads = load('./iforest/' + str(thresh) + '.npy')\n",
    "    acc, recall = cal_param(iforest_ads, ad_real.T.flatten())\n",
    "    accs.append(acc)\n",
    "    recalls.append(recall)\n",
    "    f1s.append((acc*recall)/(recall + acc))\n",
    "    \n",
    "fig = plt.figure(figsize=(20, 20))\n",
    "_, ax = plt.subplots()\n",
    "ax.plot(range(0, 20), f1s, c='k', ls='-.', marker='.', label='F1')\n",
    "ax.plot(range(0, 20), accs, c='r', ls=':', marker='s', label='acc')\n",
    "ax.plot(range(0, 20), recalls, c='b', ls=':', marker='.', label='recall')\n",
    "\n",
    "ax.set_xlabel('k')\n",
    "ax.legend()\n",
    "ax1.set_xticks(range(0, 20), tuple(range(79, 99)))\n",
    "\n",
    "plt.show()"
   ]
  },
  {
   "cell_type": "code",
   "execution_count": 29,
   "metadata": {},
   "outputs": [],
   "source": [
    "save('./index/iforest_acc.npy', accs)\n",
    "save('./index/iforest_recall.npy', recalls)\n",
    "save('./index/iforest_f1.npy', recalls)"
   ]
  },
  {
   "cell_type": "code",
   "execution_count": 11,
   "metadata": {
    "collapsed": true,
    "jupyter": {
     "outputs_hidden": true
    }
   },
   "outputs": [
    {
     "name": "stderr",
     "output_type": "stream",
     "text": [
      "  0%|          | 0/20 [00:00<?, ?it/s]/home/luojunhui1/0525/utils/BaseSVDD.py:273: UserWarning: The fitted SVDD model may be overfitting.\n",
      "\n",
      "  warnings.warn(\"The fitted SVDD model may be overfitting.\\n\")\n",
      "/home/luojunhui1/0525/utils/BaseSVDD.py:273: UserWarning: The fitted SVDD model may be overfitting.\n",
      "\n",
      "  warnings.warn(\"The fitted SVDD model may be overfitting.\\n\")\n",
      "/home/luojunhui1/0525/utils/BaseSVDD.py:273: UserWarning: The fitted SVDD model may be overfitting.\n",
      "\n",
      "  warnings.warn(\"The fitted SVDD model may be overfitting.\\n\")\n",
      "/home/luojunhui1/0525/utils/BaseSVDD.py:273: UserWarning: The fitted SVDD model may be overfitting.\n",
      "\n",
      "  warnings.warn(\"The fitted SVDD model may be overfitting.\\n\")\n",
      "/home/luojunhui1/0525/utils/BaseSVDD.py:273: UserWarning: The fitted SVDD model may be overfitting.\n",
      "\n",
      "  warnings.warn(\"The fitted SVDD model may be overfitting.\\n\")\n",
      "/home/luojunhui1/0525/utils/BaseSVDD.py:273: UserWarning: The fitted SVDD model may be overfitting.\n",
      "\n",
      "  warnings.warn(\"The fitted SVDD model may be overfitting.\\n\")\n",
      "/home/luojunhui1/0525/utils/BaseSVDD.py:273: UserWarning: The fitted SVDD model may be overfitting.\n",
      "\n",
      "  warnings.warn(\"The fitted SVDD model may be overfitting.\\n\")\n",
      "/home/luojunhui1/0525/utils/BaseSVDD.py:273: UserWarning: The fitted SVDD model may be overfitting.\n",
      "\n",
      "  warnings.warn(\"The fitted SVDD model may be overfitting.\\n\")\n",
      "/home/luojunhui1/0525/utils/BaseSVDD.py:273: UserWarning: The fitted SVDD model may be overfitting.\n",
      "\n",
      "  warnings.warn(\"The fitted SVDD model may be overfitting.\\n\")\n",
      "/home/luojunhui1/0525/utils/BaseSVDD.py:273: UserWarning: The fitted SVDD model may be overfitting.\n",
      "\n",
      "  warnings.warn(\"The fitted SVDD model may be overfitting.\\n\")\n",
      "/home/luojunhui1/0525/utils/BaseSVDD.py:273: UserWarning: The fitted SVDD model may be overfitting.\n",
      "\n",
      "  warnings.warn(\"The fitted SVDD model may be overfitting.\\n\")\n",
      "/home/luojunhui1/0525/utils/BaseSVDD.py:273: UserWarning: The fitted SVDD model may be overfitting.\n",
      "\n",
      "  warnings.warn(\"The fitted SVDD model may be overfitting.\\n\")\n",
      "/home/luojunhui1/0525/utils/BaseSVDD.py:273: UserWarning: The fitted SVDD model may be overfitting.\n",
      "\n",
      "  warnings.warn(\"The fitted SVDD model may be overfitting.\\n\")\n",
      "/home/luojunhui1/0525/utils/BaseSVDD.py:273: UserWarning: The fitted SVDD model may be overfitting.\n",
      "\n",
      "  warnings.warn(\"The fitted SVDD model may be overfitting.\\n\")\n",
      "/home/luojunhui1/0525/utils/BaseSVDD.py:273: UserWarning: The fitted SVDD model may be overfitting.\n",
      "\n",
      "  warnings.warn(\"The fitted SVDD model may be overfitting.\\n\")\n",
      "/home/luojunhui1/0525/utils/BaseSVDD.py:273: UserWarning: The fitted SVDD model may be overfitting.\n",
      "\n",
      "  warnings.warn(\"The fitted SVDD model may be overfitting.\\n\")\n",
      "/home/luojunhui1/0525/utils/BaseSVDD.py:273: UserWarning: The fitted SVDD model may be overfitting.\n",
      "\n",
      "  warnings.warn(\"The fitted SVDD model may be overfitting.\\n\")\n",
      "/home/luojunhui1/0525/utils/BaseSVDD.py:273: UserWarning: The fitted SVDD model may be overfitting.\n",
      "\n",
      "  warnings.warn(\"The fitted SVDD model may be overfitting.\\n\")\n",
      "/home/luojunhui1/0525/utils/BaseSVDD.py:273: UserWarning: The fitted SVDD model may be overfitting.\n",
      "\n",
      "  warnings.warn(\"The fitted SVDD model may be overfitting.\\n\")\n",
      "/home/luojunhui1/0525/utils/BaseSVDD.py:273: UserWarning: The fitted SVDD model may be overfitting.\n",
      "\n",
      "  warnings.warn(\"The fitted SVDD model may be overfitting.\\n\")\n",
      "/home/luojunhui1/0525/utils/BaseSVDD.py:273: UserWarning: The fitted SVDD model may be overfitting.\n",
      "\n",
      "  warnings.warn(\"The fitted SVDD model may be overfitting.\\n\")\n",
      "/home/luojunhui1/0525/utils/BaseSVDD.py:273: UserWarning: The fitted SVDD model may be overfitting.\n",
      "\n",
      "  warnings.warn(\"The fitted SVDD model may be overfitting.\\n\")\n",
      "/home/luojunhui1/0525/utils/BaseSVDD.py:273: UserWarning: The fitted SVDD model may be overfitting.\n",
      "\n",
      "  warnings.warn(\"The fitted SVDD model may be overfitting.\\n\")\n",
      "/home/luojunhui1/0525/utils/BaseSVDD.py:273: UserWarning: The fitted SVDD model may be overfitting.\n",
      "\n",
      "  warnings.warn(\"The fitted SVDD model may be overfitting.\\n\")\n",
      "/home/luojunhui1/0525/utils/BaseSVDD.py:273: UserWarning: The fitted SVDD model may be overfitting.\n",
      "\n",
      "  warnings.warn(\"The fitted SVDD model may be overfitting.\\n\")\n",
      "/home/luojunhui1/0525/utils/BaseSVDD.py:273: UserWarning: The fitted SVDD model may be overfitting.\n",
      "\n",
      "  warnings.warn(\"The fitted SVDD model may be overfitting.\\n\")\n",
      "/home/luojunhui1/0525/utils/BaseSVDD.py:273: UserWarning: The fitted SVDD model may be overfitting.\n",
      "\n",
      "  warnings.warn(\"The fitted SVDD model may be overfitting.\\n\")\n",
      "/home/luojunhui1/0525/utils/BaseSVDD.py:273: UserWarning: The fitted SVDD model may be overfitting.\n",
      "\n",
      "  warnings.warn(\"The fitted SVDD model may be overfitting.\\n\")\n",
      "/home/luojunhui1/0525/utils/BaseSVDD.py:273: UserWarning: The fitted SVDD model may be overfitting.\n",
      "\n",
      "  warnings.warn(\"The fitted SVDD model may be overfitting.\\n\")\n",
      "/home/luojunhui1/0525/utils/BaseSVDD.py:273: UserWarning: The fitted SVDD model may be overfitting.\n",
      "\n",
      "  warnings.warn(\"The fitted SVDD model may be overfitting.\\n\")\n",
      "/home/luojunhui1/0525/utils/BaseSVDD.py:273: UserWarning: The fitted SVDD model may be overfitting.\n",
      "\n",
      "  warnings.warn(\"The fitted SVDD model may be overfitting.\\n\")\n",
      "  0%|          | 0/20 [00:12<?, ?it/s]\n"
     ]
    },
    {
     "ename": "KeyboardInterrupt",
     "evalue": "",
     "output_type": "error",
     "traceback": [
      "\u001b[0;31m---------------------------------------------------------------------------\u001b[0m",
      "\u001b[0;31mKeyboardInterrupt\u001b[0m                         Traceback (most recent call last)",
      "\u001b[0;32m<ipython-input-11-78c8914b6f19>\u001b[0m in \u001b[0;36m<module>\u001b[0;34m\u001b[0m\n\u001b[1;32m     30\u001b[0m             \u001b[0mlabel_index\u001b[0m \u001b[0;34m=\u001b[0m \u001b[0mwhere\u001b[0m\u001b[0;34m(\u001b[0m\u001b[0maggl\u001b[0m \u001b[0;34m==\u001b[0m \u001b[0ml\u001b[0m\u001b[0;34m)\u001b[0m\u001b[0;34m[\u001b[0m\u001b[0;36m0\u001b[0m\u001b[0;34m]\u001b[0m\u001b[0;34m\u001b[0m\u001b[0;34m\u001b[0m\u001b[0m\n\u001b[1;32m     31\u001b[0m             \u001b[0mio_norm\u001b[0m \u001b[0;34m=\u001b[0m \u001b[0mstack\u001b[0m\u001b[0;34m(\u001b[0m\u001b[0;34m[\u001b[0m\u001b[0minorm\u001b[0m\u001b[0;34m[\u001b[0m\u001b[0mlabel_index\u001b[0m\u001b[0;34m,\u001b[0m \u001b[0mt\u001b[0m\u001b[0;34m]\u001b[0m\u001b[0;34m,\u001b[0m \u001b[0monorm\u001b[0m\u001b[0;34m[\u001b[0m\u001b[0mlabel_index\u001b[0m\u001b[0;34m,\u001b[0m \u001b[0mt\u001b[0m\u001b[0;34m]\u001b[0m\u001b[0;34m]\u001b[0m\u001b[0;34m,\u001b[0m \u001b[0maxis\u001b[0m\u001b[0;34m=\u001b[0m\u001b[0;36m1\u001b[0m\u001b[0;34m)\u001b[0m\u001b[0;34m\u001b[0m\u001b[0;34m\u001b[0m\u001b[0m\n\u001b[0;32m---> 32\u001b[0;31m             \u001b[0mad_index\u001b[0m \u001b[0;34m=\u001b[0m \u001b[0msvdd_ad\u001b[0m\u001b[0;34m(\u001b[0m\u001b[0mio_norm\u001b[0m\u001b[0;34m,\u001b[0m \u001b[0mthresh\u001b[0m\u001b[0;34m)\u001b[0m\u001b[0;34m\u001b[0m\u001b[0;34m\u001b[0m\u001b[0m\n\u001b[0m\u001b[1;32m     33\u001b[0m             \u001b[0mad\u001b[0m\u001b[0;34m[\u001b[0m\u001b[0mlabel_index\u001b[0m\u001b[0;34m[\u001b[0m\u001b[0mad_index\u001b[0m\u001b[0;34m]\u001b[0m\u001b[0;34m]\u001b[0m \u001b[0;34m=\u001b[0m \u001b[0;36m1\u001b[0m\u001b[0;34m\u001b[0m\u001b[0;34m\u001b[0m\u001b[0m\n\u001b[1;32m     34\u001b[0m         \u001b[0miforest_ads\u001b[0m \u001b[0;34m=\u001b[0m \u001b[0mconcatenate\u001b[0m\u001b[0;34m(\u001b[0m\u001b[0;34m[\u001b[0m\u001b[0miforest_ads\u001b[0m\u001b[0;34m,\u001b[0m \u001b[0mad\u001b[0m\u001b[0;34m]\u001b[0m\u001b[0;34m)\u001b[0m\u001b[0;34m\u001b[0m\u001b[0;34m\u001b[0m\u001b[0m\n",
      "\u001b[0;32m<ipython-input-11-78c8914b6f19>\u001b[0m in \u001b[0;36msvdd_ad\u001b[0;34m(data, thresh)\u001b[0m\n\u001b[1;32m      3\u001b[0m \u001b[0;32mdef\u001b[0m \u001b[0msvdd_ad\u001b[0m\u001b[0;34m(\u001b[0m\u001b[0mdata\u001b[0m\u001b[0;34m,\u001b[0m \u001b[0mthresh\u001b[0m \u001b[0;34m=\u001b[0m \u001b[0;32mNone\u001b[0m\u001b[0;34m)\u001b[0m\u001b[0;34m:\u001b[0m\u001b[0;34m\u001b[0m\u001b[0;34m\u001b[0m\u001b[0m\n\u001b[1;32m      4\u001b[0m     \u001b[0msvdd\u001b[0m \u001b[0;34m=\u001b[0m \u001b[0mBaseSVDD\u001b[0m\u001b[0;34m(\u001b[0m\u001b[0mC\u001b[0m\u001b[0;34m=\u001b[0m\u001b[0mthresh\u001b[0m\u001b[0;34m,\u001b[0m \u001b[0mgamma\u001b[0m\u001b[0;34m=\u001b[0m\u001b[0;36m0.3\u001b[0m\u001b[0;34m,\u001b[0m \u001b[0mkernel\u001b[0m\u001b[0;34m=\u001b[0m\u001b[0;34m'rbf'\u001b[0m\u001b[0;34m,\u001b[0m \u001b[0mdisplay\u001b[0m\u001b[0;34m=\u001b[0m\u001b[0;34m'off'\u001b[0m\u001b[0;34m)\u001b[0m\u001b[0;34m\u001b[0m\u001b[0;34m\u001b[0m\u001b[0m\n\u001b[0;32m----> 5\u001b[0;31m     \u001b[0msvdd\u001b[0m\u001b[0;34m.\u001b[0m\u001b[0mfit\u001b[0m\u001b[0;34m(\u001b[0m\u001b[0mdata\u001b[0m\u001b[0;34m)\u001b[0m\u001b[0;34m\u001b[0m\u001b[0;34m\u001b[0m\u001b[0m\n\u001b[0m\u001b[1;32m      6\u001b[0m     \u001b[0manomaly_score\u001b[0m \u001b[0;34m=\u001b[0m \u001b[0msvdd\u001b[0m\u001b[0;34m.\u001b[0m\u001b[0mget_distance\u001b[0m\u001b[0;34m(\u001b[0m\u001b[0mdata\u001b[0m\u001b[0;34m)\u001b[0m \u001b[0;34m-\u001b[0m \u001b[0msvdd\u001b[0m\u001b[0;34m.\u001b[0m\u001b[0mradius\u001b[0m\u001b[0;34m\u001b[0m\u001b[0;34m\u001b[0m\u001b[0m\n\u001b[1;32m      7\u001b[0m \u001b[0;31m#     anomaly_score = (anomaly_score-min(anomaly_score))/(max(anomaly_score)-min(anomaly_score))\u001b[0m\u001b[0;34m\u001b[0m\u001b[0;34m\u001b[0m\u001b[0;34m\u001b[0m\u001b[0m\n",
      "\u001b[0;32m~/0525/utils/BaseSVDD.py\u001b[0m in \u001b[0;36mfit\u001b[0;34m(self, X, y, weight)\u001b[0m\n\u001b[1;32m    156\u001b[0m \u001b[0;34m\u001b[0m\u001b[0m\n\u001b[1;32m    157\u001b[0m         \u001b[0;31m# get SVDD model\u001b[0m\u001b[0;34m\u001b[0m\u001b[0;34m\u001b[0m\u001b[0;34m\u001b[0m\u001b[0m\n\u001b[0;32m--> 158\u001b[0;31m         \u001b[0mself\u001b[0m\u001b[0;34m.\u001b[0m\u001b[0mget_model\u001b[0m\u001b[0;34m(\u001b[0m\u001b[0;34m)\u001b[0m\u001b[0;34m\u001b[0m\u001b[0;34m\u001b[0m\u001b[0m\n\u001b[0m\u001b[1;32m    159\u001b[0m         \u001b[0mdisplay_\u001b[0m \u001b[0;34m=\u001b[0m \u001b[0mself\u001b[0m\u001b[0;34m.\u001b[0m\u001b[0mdisplay\u001b[0m\u001b[0;34m\u001b[0m\u001b[0;34m\u001b[0m\u001b[0m\n\u001b[1;32m    160\u001b[0m         \u001b[0mself\u001b[0m\u001b[0;34m.\u001b[0m\u001b[0mdisplay\u001b[0m \u001b[0;34m=\u001b[0m \u001b[0;34m'off'\u001b[0m\u001b[0;34m\u001b[0m\u001b[0;34m\u001b[0m\u001b[0m\n",
      "\u001b[0;32m~/0525/utils/BaseSVDD.py\u001b[0m in \u001b[0;36mget_model\u001b[0;34m(self)\u001b[0m\n\u001b[1;32m    173\u001b[0m         \u001b[0;31m#\u001b[0m\u001b[0;34m\u001b[0m\u001b[0;34m\u001b[0m\u001b[0;34m\u001b[0m\u001b[0m\n\u001b[1;32m    174\u001b[0m         \u001b[0mK\u001b[0m \u001b[0;34m=\u001b[0m \u001b[0mself\u001b[0m\u001b[0;34m.\u001b[0m\u001b[0m_get_kernel\u001b[0m\u001b[0;34m(\u001b[0m\u001b[0mself\u001b[0m\u001b[0;34m.\u001b[0m\u001b[0mX\u001b[0m\u001b[0;34m,\u001b[0m \u001b[0mself\u001b[0m\u001b[0;34m.\u001b[0m\u001b[0mX\u001b[0m\u001b[0;34m)\u001b[0m\u001b[0;34m\u001b[0m\u001b[0;34m\u001b[0m\u001b[0m\n\u001b[0;32m--> 175\u001b[0;31m         \u001b[0mself\u001b[0m\u001b[0;34m.\u001b[0m\u001b[0msolve_problem\u001b[0m\u001b[0;34m(\u001b[0m\u001b[0mK\u001b[0m\u001b[0;34m)\u001b[0m\u001b[0;34m\u001b[0m\u001b[0;34m\u001b[0m\u001b[0m\n\u001b[0m\u001b[1;32m    176\u001b[0m \u001b[0;34m\u001b[0m\u001b[0m\n\u001b[1;32m    177\u001b[0m     \u001b[0;32mdef\u001b[0m \u001b[0m_get_kernel\u001b[0m\u001b[0;34m(\u001b[0m\u001b[0mself\u001b[0m\u001b[0;34m,\u001b[0m \u001b[0mX\u001b[0m\u001b[0;34m,\u001b[0m \u001b[0mY\u001b[0m\u001b[0;34m=\u001b[0m\u001b[0;32mNone\u001b[0m\u001b[0;34m)\u001b[0m\u001b[0;34m:\u001b[0m\u001b[0;34m\u001b[0m\u001b[0;34m\u001b[0m\u001b[0m\n",
      "\u001b[0;32m~/0525/utils/BaseSVDD.py\u001b[0m in \u001b[0;36msolve_problem\u001b[0;34m(self, K)\u001b[0m\n\u001b[1;32m    241\u001b[0m \u001b[0;34m\u001b[0m\u001b[0m\n\u001b[1;32m    242\u001b[0m         \u001b[0;31m#\u001b[0m\u001b[0;34m\u001b[0m\u001b[0;34m\u001b[0m\u001b[0;34m\u001b[0m\u001b[0m\n\u001b[0;32m--> 243\u001b[0;31m         \u001b[0msol\u001b[0m \u001b[0;34m=\u001b[0m \u001b[0msolvers\u001b[0m\u001b[0;34m.\u001b[0m\u001b[0mqp\u001b[0m\u001b[0;34m(\u001b[0m\u001b[0mP\u001b[0m\u001b[0;34m,\u001b[0m \u001b[0mq\u001b[0m\u001b[0;34m,\u001b[0m \u001b[0mG\u001b[0m\u001b[0;34m,\u001b[0m \u001b[0mh\u001b[0m\u001b[0;34m,\u001b[0m \u001b[0mA\u001b[0m\u001b[0;34m,\u001b[0m \u001b[0mb\u001b[0m\u001b[0;34m)\u001b[0m\u001b[0;34m\u001b[0m\u001b[0;34m\u001b[0m\u001b[0m\n\u001b[0m\u001b[1;32m    244\u001b[0m \u001b[0;34m\u001b[0m\u001b[0m\n\u001b[1;32m    245\u001b[0m         \u001b[0mself\u001b[0m\u001b[0;34m.\u001b[0m\u001b[0mobject_value\u001b[0m \u001b[0;34m=\u001b[0m \u001b[0mnp\u001b[0m\u001b[0;34m.\u001b[0m\u001b[0marray\u001b[0m\u001b[0;34m(\u001b[0m\u001b[0msol\u001b[0m\u001b[0;34m[\u001b[0m\u001b[0;34m'dual objective'\u001b[0m\u001b[0;34m]\u001b[0m\u001b[0;34m)\u001b[0m\u001b[0;34m\u001b[0m\u001b[0;34m\u001b[0m\u001b[0m\n",
      "\u001b[0;32m~/.custom/PYTORCH1.4.0_JUPYTER2_gpu/pylib/Python3/cvxopt/coneprog.py\u001b[0m in \u001b[0;36mqp\u001b[0;34m(P, q, G, h, A, b, solver, kktsolver, initvals, **kwargs)\u001b[0m\n\u001b[1;32m   4483\u001b[0m             'residual as dual infeasibility certificate': dinfres}\n\u001b[1;32m   4484\u001b[0m \u001b[0;34m\u001b[0m\u001b[0m\n\u001b[0;32m-> 4485\u001b[0;31m     \u001b[0;32mreturn\u001b[0m \u001b[0mconeqp\u001b[0m\u001b[0;34m(\u001b[0m\u001b[0mP\u001b[0m\u001b[0;34m,\u001b[0m \u001b[0mq\u001b[0m\u001b[0;34m,\u001b[0m \u001b[0mG\u001b[0m\u001b[0;34m,\u001b[0m \u001b[0mh\u001b[0m\u001b[0;34m,\u001b[0m \u001b[0;32mNone\u001b[0m\u001b[0;34m,\u001b[0m \u001b[0mA\u001b[0m\u001b[0;34m,\u001b[0m  \u001b[0mb\u001b[0m\u001b[0;34m,\u001b[0m \u001b[0minitvals\u001b[0m\u001b[0;34m,\u001b[0m \u001b[0mkktsolver\u001b[0m \u001b[0;34m=\u001b[0m \u001b[0mkktsolver\u001b[0m\u001b[0;34m,\u001b[0m \u001b[0moptions\u001b[0m \u001b[0;34m=\u001b[0m \u001b[0moptions\u001b[0m\u001b[0;34m)\u001b[0m\u001b[0;34m\u001b[0m\u001b[0;34m\u001b[0m\u001b[0m\n\u001b[0m",
      "\u001b[0;32m~/.custom/PYTORCH1.4.0_JUPYTER2_gpu/pylib/Python3/cvxopt/coneprog.py\u001b[0m in \u001b[0;36mconeqp\u001b[0;34m(P, q, G, h, dims, A, b, initvals, kktsolver, xnewcopy, xdot, xaxpy, xscal, ynewcopy, ydot, yaxpy, yscal, **kwargs)\u001b[0m\n\u001b[1;32m   2254\u001b[0m         \u001b[0;31m# On exit, they contain ux, uy, uz.\u001b[0m\u001b[0;34m\u001b[0m\u001b[0;34m\u001b[0m\u001b[0;34m\u001b[0m\u001b[0m\n\u001b[1;32m   2255\u001b[0m \u001b[0;34m\u001b[0m\u001b[0m\n\u001b[0;32m-> 2256\u001b[0;31m         \u001b[0;32mtry\u001b[0m\u001b[0;34m:\u001b[0m \u001b[0mf3\u001b[0m \u001b[0;34m=\u001b[0m \u001b[0mkktsolver\u001b[0m\u001b[0;34m(\u001b[0m\u001b[0mW\u001b[0m\u001b[0;34m)\u001b[0m\u001b[0;34m\u001b[0m\u001b[0;34m\u001b[0m\u001b[0m\n\u001b[0m\u001b[1;32m   2257\u001b[0m         \u001b[0;32mexcept\u001b[0m \u001b[0mArithmeticError\u001b[0m\u001b[0;34m:\u001b[0m\u001b[0;34m\u001b[0m\u001b[0;34m\u001b[0m\u001b[0m\n\u001b[1;32m   2258\u001b[0m             \u001b[0;32mif\u001b[0m \u001b[0miters\u001b[0m \u001b[0;34m==\u001b[0m \u001b[0;36m0\u001b[0m\u001b[0;34m:\u001b[0m\u001b[0;34m\u001b[0m\u001b[0;34m\u001b[0m\u001b[0m\n",
      "\u001b[0;32m~/.custom/PYTORCH1.4.0_JUPYTER2_gpu/pylib/Python3/cvxopt/coneprog.py\u001b[0m in \u001b[0;36mkktsolver\u001b[0;34m(W)\u001b[0m\n\u001b[1;32m   1979\u001b[0m              \u001b[0mfactor\u001b[0m \u001b[0;34m=\u001b[0m \u001b[0mmisc\u001b[0m\u001b[0;34m.\u001b[0m\u001b[0mkkt_chol2\u001b[0m\u001b[0;34m(\u001b[0m\u001b[0mG\u001b[0m\u001b[0;34m,\u001b[0m \u001b[0mdims\u001b[0m\u001b[0;34m,\u001b[0m \u001b[0mA\u001b[0m\u001b[0;34m)\u001b[0m\u001b[0;34m\u001b[0m\u001b[0;34m\u001b[0m\u001b[0m\n\u001b[1;32m   1980\u001b[0m          \u001b[0;32mdef\u001b[0m \u001b[0mkktsolver\u001b[0m\u001b[0;34m(\u001b[0m\u001b[0mW\u001b[0m\u001b[0;34m)\u001b[0m\u001b[0;34m:\u001b[0m\u001b[0;34m\u001b[0m\u001b[0;34m\u001b[0m\u001b[0m\n\u001b[0;32m-> 1981\u001b[0;31m              \u001b[0;32mreturn\u001b[0m \u001b[0mfactor\u001b[0m\u001b[0;34m(\u001b[0m\u001b[0mW\u001b[0m\u001b[0;34m,\u001b[0m \u001b[0mP\u001b[0m\u001b[0;34m)\u001b[0m\u001b[0;34m\u001b[0m\u001b[0;34m\u001b[0m\u001b[0m\n\u001b[0m\u001b[1;32m   1982\u001b[0m \u001b[0;34m\u001b[0m\u001b[0m\n\u001b[1;32m   1983\u001b[0m     \u001b[0;32mif\u001b[0m \u001b[0mxnewcopy\u001b[0m \u001b[0;32mis\u001b[0m \u001b[0;32mNone\u001b[0m\u001b[0;34m:\u001b[0m \u001b[0mxnewcopy\u001b[0m \u001b[0;34m=\u001b[0m \u001b[0mmatrix\u001b[0m\u001b[0;34m\u001b[0m\u001b[0;34m\u001b[0m\u001b[0m\n",
      "\u001b[0;32m~/.custom/PYTORCH1.4.0_JUPYTER2_gpu/pylib/Python3/cvxopt/misc.py\u001b[0m in \u001b[0;36mfactor\u001b[0;34m(W, H, Df)\u001b[0m\n\u001b[1;32m   1468\u001b[0m             \u001b[0;32melse\u001b[0m\u001b[0;34m:\u001b[0m\u001b[0;34m\u001b[0m\u001b[0;34m\u001b[0m\u001b[0m\n\u001b[1;32m   1469\u001b[0m                 \u001b[0mAsct\u001b[0m \u001b[0;34m=\u001b[0m \u001b[0mmatrix\u001b[0m\u001b[0;34m(\u001b[0m\u001b[0mA\u001b[0m\u001b[0;34m.\u001b[0m\u001b[0mT\u001b[0m\u001b[0;34m)\u001b[0m\u001b[0;34m\u001b[0m\u001b[0;34m\u001b[0m\u001b[0m\n\u001b[0;32m-> 1470\u001b[0;31m             \u001b[0mblas\u001b[0m\u001b[0;34m.\u001b[0m\u001b[0mtrsm\u001b[0m\u001b[0;34m(\u001b[0m\u001b[0mF\u001b[0m\u001b[0;34m[\u001b[0m\u001b[0;34m'S'\u001b[0m\u001b[0;34m]\u001b[0m\u001b[0;34m,\u001b[0m \u001b[0mAsct\u001b[0m\u001b[0;34m)\u001b[0m\u001b[0;34m\u001b[0m\u001b[0;34m\u001b[0m\u001b[0m\n\u001b[0m\u001b[1;32m   1471\u001b[0m             \u001b[0mblas\u001b[0m\u001b[0;34m.\u001b[0m\u001b[0msyrk\u001b[0m\u001b[0;34m(\u001b[0m\u001b[0mAsct\u001b[0m\u001b[0;34m,\u001b[0m \u001b[0mF\u001b[0m\u001b[0;34m[\u001b[0m\u001b[0;34m'K'\u001b[0m\u001b[0;34m]\u001b[0m\u001b[0;34m,\u001b[0m \u001b[0mtrans\u001b[0m \u001b[0;34m=\u001b[0m \u001b[0;34m'T'\u001b[0m\u001b[0;34m)\u001b[0m\u001b[0;34m\u001b[0m\u001b[0;34m\u001b[0m\u001b[0m\n\u001b[1;32m   1472\u001b[0m             \u001b[0mlapack\u001b[0m\u001b[0;34m.\u001b[0m\u001b[0mpotrf\u001b[0m\u001b[0;34m(\u001b[0m\u001b[0mF\u001b[0m\u001b[0;34m[\u001b[0m\u001b[0;34m'K'\u001b[0m\u001b[0;34m]\u001b[0m\u001b[0;34m)\u001b[0m\u001b[0;34m\u001b[0m\u001b[0;34m\u001b[0m\u001b[0m\n",
      "\u001b[0;31mKeyboardInterrupt\u001b[0m: "
     ]
    }
   ],
   "source": [
    "from utils.BaseSVDD import *\n",
    "\n",
    "def svdd_ad(data, thresh = None):\n",
    "    svdd = BaseSVDD(C=thresh, gamma=0.3, kernel='rbf', display='off')\n",
    "    svdd.fit(data)\n",
    "    anomaly_score = svdd.get_distance(data) - svdd.radius\n",
    "#     anomaly_score = (anomaly_score-min(anomaly_score))/(max(anomaly_score)-min(anomaly_score))\n",
    "    anomaly_score = array(anomaly_score).squeeze()\n",
    "    return where(anomaly_score > 0)[0]\n",
    "\n",
    "# get inflow, outflow data\n",
    "inflow = load('./v2/gen_inflows.npy')\n",
    "outflow = load('./v2/gen_outflows.npy')\n",
    "\n",
    "inorm = norm_by_row(inflow)\n",
    "onorm = norm_by_row(outflow)\n",
    "\n",
    "aggl = load('./v2/aggl.npy')\n",
    "ad_real = load('./v2/gen_anomalies.npy')\n",
    "\n",
    "accs = []\n",
    "recalls = []\n",
    "f1s = []\n",
    "\n",
    "for thresh in trange(79, 99):\n",
    "    iforest_ads = array([])\n",
    "    for t in range(0, tn):\n",
    "        ad = array([0]*rn)\n",
    "        for l in range(0, len(unique(aggl))):\n",
    "            label_index = where(aggl == l)[0]\n",
    "            io_norm = stack([inorm[label_index, t], onorm[label_index, t]], axis=1)\n",
    "            ad_index = svdd_ad(io_norm, thresh)\n",
    "            ad[label_index[ad_index]] = 1\n",
    "        iforest_ads = concatenate([iforest_ads, ad])\n",
    "    save('./svdd/' + str(thresh) + '.npy', iforest_ads)\n",
    "    acc, recall = cal_param(iforest_ads, ad_real.T.flatten())\n",
    "    accs.append(acc)\n",
    "    recalls.append(recall)\n",
    "    f1s.append((acc*recall)/(recall + acc))"
   ]
  },
  {
   "cell_type": "code",
   "execution_count": 30,
   "metadata": {},
   "outputs": [
    {
     "name": "stderr",
     "output_type": "stream",
     "text": [
      "100%|██████████| 20/20 [00:03<00:00,  6.26it/s]\n",
      "/opt/conda/envs/Python3/lib/python3.6/site-packages/ipykernel_launcher.py:22: MatplotlibDeprecationWarning: Passing the minor parameter of set_ticks() positionally is deprecated since Matplotlib 3.2; the parameter will become keyword-only two minor releases later.\n"
     ]
    },
    {
     "data": {
      "text/plain": [
       "<Figure size 1440x1440 with 0 Axes>"
      ]
     },
     "metadata": {},
     "output_type": "display_data"
    },
    {
     "data": {
      "image/png": "[encoded data removed]",
      "text/plain": [
       "<Figure size 432x288 with 1 Axes>"
      ]
     },
     "metadata": {
      "needs_background": "light"
     },
     "output_type": "display_data"
    }
   ],
   "source": [
    "accs = []\n",
    "recalls = []\n",
    "f1s = []\n",
    "\n",
    "ad_real = load('./v2/gen_anomalies.npy')\n",
    "\n",
    "for thresh in trange(79, 99):\n",
    "    iforest_ads = load('./svdd/' + str(thresh) + '.npy')\n",
    "    acc, recall = cal_param(iforest_ads, ad_real.T.flatten())\n",
    "    accs.append(acc)\n",
    "    recalls.append(recall)\n",
    "    f1s.append((acc*recall)/(recall + acc))\n",
    "                       \n",
    "fig = plt.figure(figsize=(20, 20))\n",
    "_, ax = plt.subplots()\n",
    "ax.plot(range(0, 20), f1s, c='k', ls='-.', marker='.', label='F1')\n",
    "ax.plot(range(0, 20), accs, c='r', ls=':', marker='s', label='acc')\n",
    "ax.plot(range(0, 20), recalls, c='b', ls=':', marker='.', label='recall')\n",
    "\n",
    "ax.set_xlabel('k')\n",
    "ax.legend()\n",
    "ax1.set_xticks(range(0, 20), tuple(range(79, 99)))\n",
    "\n",
    "plt.show()"
   ]
  },
  {
   "cell_type": "code",
   "execution_count": 31,
   "metadata": {},
   "outputs": [],
   "source": [
    "save('./index/svdd_acc.npy', accs)\n",
    "save('./index/svdd_recall.npy', recalls)\n",
    "save('./index/svdd_f1.npy', f1s)"
   ]
  },
  {
   "cell_type": "code",
   "execution_count": 25,
   "metadata": {},
   "outputs": [
    {
     "name": "stderr",
     "output_type": "stream",
     "text": [
      "  0%|          | 0/10 [00:00<?, ?it/s]"
     ]
    },
    {
     "name": "stdout",
     "output_type": "stream",
     "text": [
      "0.0\n"
     ]
    },
    {
     "name": "stderr",
     "output_type": "stream",
     "text": [
      " 10%|█         | 1/10 [00:03<00:31,  3.52s/it]"
     ]
    },
    {
     "name": "stdout",
     "output_type": "stream",
     "text": [
      "0.03\n"
     ]
    },
    {
     "name": "stderr",
     "output_type": "stream",
     "text": [
      " 20%|██        | 2/10 [00:06<00:27,  3.45s/it]"
     ]
    },
    {
     "name": "stdout",
     "output_type": "stream",
     "text": [
      "0.06\n"
     ]
    },
    {
     "name": "stderr",
     "output_type": "stream",
     "text": [
      " 30%|███       | 3/10 [00:10<00:23,  3.41s/it]"
     ]
    },
    {
     "name": "stdout",
     "output_type": "stream",
     "text": [
      "0.09\n"
     ]
    },
    {
     "name": "stderr",
     "output_type": "stream",
     "text": [
      " 40%|████      | 4/10 [00:13<00:20,  3.40s/it]"
     ]
    },
    {
     "name": "stdout",
     "output_type": "stream",
     "text": [
      "0.12\n"
     ]
    },
    {
     "name": "stderr",
     "output_type": "stream",
     "text": [
      " 50%|█████     | 5/10 [00:17<00:16,  3.39s/it]"
     ]
    },
    {
     "name": "stdout",
     "output_type": "stream",
     "text": [
      "0.15\n"
     ]
    },
    {
     "name": "stderr",
     "output_type": "stream",
     "text": [
      " 60%|██████    | 6/10 [00:20<00:13,  3.39s/it]"
     ]
    },
    {
     "name": "stdout",
     "output_type": "stream",
     "text": [
      "0.18\n"
     ]
    },
    {
     "name": "stderr",
     "output_type": "stream",
     "text": [
      " 70%|███████   | 7/10 [00:23<00:10,  3.38s/it]"
     ]
    },
    {
     "name": "stdout",
     "output_type": "stream",
     "text": [
      "0.21\n"
     ]
    },
    {
     "name": "stderr",
     "output_type": "stream",
     "text": [
      " 80%|████████  | 8/10 [00:27<00:06,  3.38s/it]"
     ]
    },
    {
     "name": "stdout",
     "output_type": "stream",
     "text": [
      "0.24\n"
     ]
    },
    {
     "name": "stderr",
     "output_type": "stream",
     "text": [
      " 90%|█████████ | 9/10 [00:30<00:03,  3.38s/it]"
     ]
    },
    {
     "name": "stdout",
     "output_type": "stream",
     "text": [
      "0.27\n"
     ]
    },
    {
     "name": "stderr",
     "output_type": "stream",
     "text": [
      "100%|██████████| 10/10 [00:33<00:00,  3.39s/it]\n"
     ]
    }
   ],
   "source": [
    "def chisquare_ad(data, k = 3):\n",
    "    means = mean(data,axis=0)\n",
    "    chi = [sum(((data[i] - means)**2)/means) for i in range(0, len(data))]\n",
    "    cur = chi - mean(chi)\n",
    "    anomaly_score = [0 if cur[i] < 0 else cur[i] for i in range(0, len(cur))]\n",
    "    return where(anomaly_score >= k)[0]\n",
    "\n",
    "accs = []\n",
    "recalls = []\n",
    "f1s = []\n",
    "\n",
    "for thresh in tqdm(linspace(0, 0.3, 10, endpoint=False)):\n",
    "    print(thresh)\n",
    "    iforest_ads = array([])\n",
    "    for t in range(0, tn):\n",
    "        ad = array([0]*rn)\n",
    "        for l in range(0, len(unique(aggl))):\n",
    "            label_index = where(aggl == l)[0]\n",
    "            io_norm = stack([inorm[label_index, t], onorm[label_index, t]], axis=1)\n",
    "            ad_index = chisquare_ad(io_norm, thresh)\n",
    "            ad[label_index[ad_index]] = 1\n",
    "        iforest_ads = concatenate([iforest_ads, ad])\n",
    "    save('./chis/' + str(thresh) + '.npy', iforest_ads)\n",
    "    acc, recall = cal_param(iforest_ads, ad_real.T.flatten())\n",
    "    accs.append(acc)\n",
    "    recalls.append(recall)\n",
    "    f1s.append((acc*recall)/(recall + acc))"
   ]
  },
  {
   "cell_type": "code",
   "execution_count": 32,
   "metadata": {},
   "outputs": [
    {
     "ename": "ValueError",
     "evalue": "x and y must have same first dimension, but have shapes (20,) and (10,)",
     "output_type": "error",
     "traceback": [
      "\u001b[0;31m---------------------------------------------------------------------------\u001b[0m",
      "\u001b[0;31mValueError\u001b[0m                                Traceback (most recent call last)",
      "\u001b[0;32m<ipython-input-32-8c1cc37ed148>\u001b[0m in \u001b[0;36m<module>\u001b[0;34m\u001b[0m\n\u001b[1;32m     14\u001b[0m \u001b[0mfig\u001b[0m \u001b[0;34m=\u001b[0m \u001b[0mplt\u001b[0m\u001b[0;34m.\u001b[0m\u001b[0mfigure\u001b[0m\u001b[0;34m(\u001b[0m\u001b[0mfigsize\u001b[0m\u001b[0;34m=\u001b[0m\u001b[0;34m(\u001b[0m\u001b[0;36m20\u001b[0m\u001b[0;34m,\u001b[0m \u001b[0;36m20\u001b[0m\u001b[0;34m)\u001b[0m\u001b[0;34m)\u001b[0m\u001b[0;34m\u001b[0m\u001b[0;34m\u001b[0m\u001b[0m\n\u001b[1;32m     15\u001b[0m \u001b[0m_\u001b[0m\u001b[0;34m,\u001b[0m \u001b[0max\u001b[0m \u001b[0;34m=\u001b[0m \u001b[0mplt\u001b[0m\u001b[0;34m.\u001b[0m\u001b[0msubplots\u001b[0m\u001b[0;34m(\u001b[0m\u001b[0;34m)\u001b[0m\u001b[0;34m\u001b[0m\u001b[0;34m\u001b[0m\u001b[0m\n\u001b[0;32m---> 16\u001b[0;31m \u001b[0max\u001b[0m\u001b[0;34m.\u001b[0m\u001b[0mplot\u001b[0m\u001b[0;34m(\u001b[0m\u001b[0mrange\u001b[0m\u001b[0;34m(\u001b[0m\u001b[0;36m0\u001b[0m\u001b[0;34m,\u001b[0m \u001b[0;36m20\u001b[0m\u001b[0;34m)\u001b[0m\u001b[0;34m,\u001b[0m \u001b[0mf1s\u001b[0m\u001b[0;34m,\u001b[0m \u001b[0mc\u001b[0m\u001b[0;34m=\u001b[0m\u001b[0;34m'k'\u001b[0m\u001b[0;34m,\u001b[0m \u001b[0mls\u001b[0m\u001b[0;34m=\u001b[0m\u001b[0;34m'-.'\u001b[0m\u001b[0;34m,\u001b[0m \u001b[0mmarker\u001b[0m\u001b[0;34m=\u001b[0m\u001b[0;34m'.'\u001b[0m\u001b[0;34m,\u001b[0m \u001b[0mlabel\u001b[0m\u001b[0;34m=\u001b[0m\u001b[0;34m'F1'\u001b[0m\u001b[0;34m)\u001b[0m\u001b[0;34m\u001b[0m\u001b[0;34m\u001b[0m\u001b[0m\n\u001b[0m\u001b[1;32m     17\u001b[0m \u001b[0max\u001b[0m\u001b[0;34m.\u001b[0m\u001b[0mplot\u001b[0m\u001b[0;34m(\u001b[0m\u001b[0mrange\u001b[0m\u001b[0;34m(\u001b[0m\u001b[0;36m0\u001b[0m\u001b[0;34m,\u001b[0m \u001b[0;36m20\u001b[0m\u001b[0;34m)\u001b[0m\u001b[0;34m,\u001b[0m \u001b[0maccs\u001b[0m\u001b[0;34m,\u001b[0m \u001b[0mc\u001b[0m\u001b[0;34m=\u001b[0m\u001b[0;34m'r'\u001b[0m\u001b[0;34m,\u001b[0m \u001b[0mls\u001b[0m\u001b[0;34m=\u001b[0m\u001b[0;34m':'\u001b[0m\u001b[0;34m,\u001b[0m \u001b[0mmarker\u001b[0m\u001b[0;34m=\u001b[0m\u001b[0;34m's'\u001b[0m\u001b[0;34m,\u001b[0m \u001b[0mlabel\u001b[0m\u001b[0;34m=\u001b[0m\u001b[0;34m'acc'\u001b[0m\u001b[0;34m)\u001b[0m\u001b[0;34m\u001b[0m\u001b[0;34m\u001b[0m\u001b[0m\n\u001b[1;32m     18\u001b[0m \u001b[0max\u001b[0m\u001b[0;34m.\u001b[0m\u001b[0mplot\u001b[0m\u001b[0;34m(\u001b[0m\u001b[0mrange\u001b[0m\u001b[0;34m(\u001b[0m\u001b[0;36m0\u001b[0m\u001b[0;34m,\u001b[0m \u001b[0;36m20\u001b[0m\u001b[0;34m)\u001b[0m\u001b[0;34m,\u001b[0m \u001b[0mrecalls\u001b[0m\u001b[0;34m,\u001b[0m \u001b[0mc\u001b[0m\u001b[0;34m=\u001b[0m\u001b[0;34m'b'\u001b[0m\u001b[0;34m,\u001b[0m \u001b[0mls\u001b[0m\u001b[0;34m=\u001b[0m\u001b[0;34m':'\u001b[0m\u001b[0;34m,\u001b[0m \u001b[0mmarker\u001b[0m\u001b[0;34m=\u001b[0m\u001b[0;34m'.'\u001b[0m\u001b[0;34m,\u001b[0m \u001b[0mlabel\u001b[0m\u001b[0;34m=\u001b[0m\u001b[0;34m'recall'\u001b[0m\u001b[0;34m)\u001b[0m\u001b[0;34m\u001b[0m\u001b[0;34m\u001b[0m\u001b[0m\n",
      "\u001b[0;32m/opt/conda/envs/Python3/lib/python3.6/site-packages/matplotlib/axes/_axes.py\u001b[0m in \u001b[0;36mplot\u001b[0;34m(self, scalex, scaley, data, *args, **kwargs)\u001b[0m\n\u001b[1;32m   1741\u001b[0m         \"\"\"\n\u001b[1;32m   1742\u001b[0m         \u001b[0mkwargs\u001b[0m \u001b[0;34m=\u001b[0m \u001b[0mcbook\u001b[0m\u001b[0;34m.\u001b[0m\u001b[0mnormalize_kwargs\u001b[0m\u001b[0;34m(\u001b[0m\u001b[0mkwargs\u001b[0m\u001b[0;34m,\u001b[0m \u001b[0mmlines\u001b[0m\u001b[0;34m.\u001b[0m\u001b[0mLine2D\u001b[0m\u001b[0;34m)\u001b[0m\u001b[0;34m\u001b[0m\u001b[0;34m\u001b[0m\u001b[0m\n\u001b[0;32m-> 1743\u001b[0;31m         \u001b[0mlines\u001b[0m \u001b[0;34m=\u001b[0m \u001b[0;34m[\u001b[0m\u001b[0;34m*\u001b[0m\u001b[0mself\u001b[0m\u001b[0;34m.\u001b[0m\u001b[0m_get_lines\u001b[0m\u001b[0;34m(\u001b[0m\u001b[0;34m*\u001b[0m\u001b[0margs\u001b[0m\u001b[0;34m,\u001b[0m \u001b[0mdata\u001b[0m\u001b[0;34m=\u001b[0m\u001b[0mdata\u001b[0m\u001b[0;34m,\u001b[0m \u001b[0;34m**\u001b[0m\u001b[0mkwargs\u001b[0m\u001b[0;34m)\u001b[0m\u001b[0;34m]\u001b[0m\u001b[0;34m\u001b[0m\u001b[0;34m\u001b[0m\u001b[0m\n\u001b[0m\u001b[1;32m   1744\u001b[0m         \u001b[0;32mfor\u001b[0m \u001b[0mline\u001b[0m \u001b[0;32min\u001b[0m \u001b[0mlines\u001b[0m\u001b[0;34m:\u001b[0m\u001b[0;34m\u001b[0m\u001b[0;34m\u001b[0m\u001b[0m\n\u001b[1;32m   1745\u001b[0m             \u001b[0mself\u001b[0m\u001b[0;34m.\u001b[0m\u001b[0madd_line\u001b[0m\u001b[0;34m(\u001b[0m\u001b[0mline\u001b[0m\u001b[0;34m)\u001b[0m\u001b[0;34m\u001b[0m\u001b[0;34m\u001b[0m\u001b[0m\n",
      "\u001b[0;32m/opt/conda/envs/Python3/lib/python3.6/site-packages/matplotlib/axes/_base.py\u001b[0m in \u001b[0;36m__call__\u001b[0;34m(self, data, *args, **kwargs)\u001b[0m\n\u001b[1;32m    271\u001b[0m                 \u001b[0mthis\u001b[0m \u001b[0;34m+=\u001b[0m \u001b[0margs\u001b[0m\u001b[0;34m[\u001b[0m\u001b[0;36m0\u001b[0m\u001b[0;34m]\u001b[0m\u001b[0;34m,\u001b[0m\u001b[0;34m\u001b[0m\u001b[0;34m\u001b[0m\u001b[0m\n\u001b[1;32m    272\u001b[0m                 \u001b[0margs\u001b[0m \u001b[0;34m=\u001b[0m \u001b[0margs\u001b[0m\u001b[0;34m[\u001b[0m\u001b[0;36m1\u001b[0m\u001b[0;34m:\u001b[0m\u001b[0;34m]\u001b[0m\u001b[0;34m\u001b[0m\u001b[0;34m\u001b[0m\u001b[0m\n\u001b[0;32m--> 273\u001b[0;31m             \u001b[0;32myield\u001b[0m \u001b[0;32mfrom\u001b[0m \u001b[0mself\u001b[0m\u001b[0;34m.\u001b[0m\u001b[0m_plot_args\u001b[0m\u001b[0;34m(\u001b[0m\u001b[0mthis\u001b[0m\u001b[0;34m,\u001b[0m \u001b[0mkwargs\u001b[0m\u001b[0;34m)\u001b[0m\u001b[0;34m\u001b[0m\u001b[0;34m\u001b[0m\u001b[0m\n\u001b[0m\u001b[1;32m    274\u001b[0m \u001b[0;34m\u001b[0m\u001b[0m\n\u001b[1;32m    275\u001b[0m     \u001b[0;32mdef\u001b[0m \u001b[0mget_next_color\u001b[0m\u001b[0;34m(\u001b[0m\u001b[0mself\u001b[0m\u001b[0;34m)\u001b[0m\u001b[0;34m:\u001b[0m\u001b[0;34m\u001b[0m\u001b[0;34m\u001b[0m\u001b[0m\n",
      "\u001b[0;32m/opt/conda/envs/Python3/lib/python3.6/site-packages/matplotlib/axes/_base.py\u001b[0m in \u001b[0;36m_plot_args\u001b[0;34m(self, tup, kwargs)\u001b[0m\n\u001b[1;32m    397\u001b[0m \u001b[0;34m\u001b[0m\u001b[0m\n\u001b[1;32m    398\u001b[0m         \u001b[0;32mif\u001b[0m \u001b[0mx\u001b[0m\u001b[0;34m.\u001b[0m\u001b[0mshape\u001b[0m\u001b[0;34m[\u001b[0m\u001b[0;36m0\u001b[0m\u001b[0;34m]\u001b[0m \u001b[0;34m!=\u001b[0m \u001b[0my\u001b[0m\u001b[0;34m.\u001b[0m\u001b[0mshape\u001b[0m\u001b[0;34m[\u001b[0m\u001b[0;36m0\u001b[0m\u001b[0;34m]\u001b[0m\u001b[0;34m:\u001b[0m\u001b[0;34m\u001b[0m\u001b[0;34m\u001b[0m\u001b[0m\n\u001b[0;32m--> 399\u001b[0;31m             raise ValueError(f\"x and y must have same first dimension, but \"\n\u001b[0m\u001b[1;32m    400\u001b[0m                              f\"have shapes {x.shape} and {y.shape}\")\n\u001b[1;32m    401\u001b[0m         \u001b[0;32mif\u001b[0m \u001b[0mx\u001b[0m\u001b[0;34m.\u001b[0m\u001b[0mndim\u001b[0m \u001b[0;34m>\u001b[0m \u001b[0;36m2\u001b[0m \u001b[0;32mor\u001b[0m \u001b[0my\u001b[0m\u001b[0;34m.\u001b[0m\u001b[0mndim\u001b[0m \u001b[0;34m>\u001b[0m \u001b[0;36m2\u001b[0m\u001b[0;34m:\u001b[0m\u001b[0;34m\u001b[0m\u001b[0;34m\u001b[0m\u001b[0m\n",
      "\u001b[0;31mValueError\u001b[0m: x and y must have same first dimension, but have shapes (20,) and (10,)"
     ]
    },
    {
     "data": {
      "text/plain": [
       "<Figure size 1440x1440 with 0 Axes>"
      ]
     },
     "metadata": {},
     "output_type": "display_data"
    },
    {
     "data": {
      "image/png": "[encoded data removed]",
      "text/plain": [
       "<Figure size 432x288 with 1 Axes>"
      ]
     },
     "metadata": {
      "needs_background": "light"
     },
     "output_type": "display_data"
    }
   ],
   "source": [
    "accs = []\n",
    "recalls = []\n",
    "f1s = []\n",
    "\n",
    "ad_real = load('./v2/gen_anomalies.npy')\n",
    "\n",
    "for thresh in linspace(0, 0.3, 10, endpoint=False):\n",
    "    iforest_ads = load('./chis/' + str(thresh) + '.npy')\n",
    "    acc, recall = cal_param(iforest_ads, ad_real.T.flatten())\n",
    "    accs.append(acc)\n",
    "    recalls.append(recall)\n",
    "    f1s.append((acc*recall)/(recall + acc))\n",
    "   \n",
    "fig = plt.figure(figsize=(20, 20))\n",
    "_, ax = plt.subplots()\n",
    "ax.plot(range(0, 10), f1s, c='k', ls='-.', marker='.', label='F1')\n",
    "ax.plot(range(0, 10), accs, c='r', ls=':', marker='s', label='acc')\n",
    "ax.plot(range(0, 20), recalls, c='b', ls=':', marker='.', label='recall')\n",
    "\n",
    "ax.set_xlabel('k')\n",
    "ax.legend()\n",
    "ax1.set_xticks(range(0, 20), tuple(range(79, 99)))\n",
    "\n",
    "plt.show()"
   ]
  },
  {
   "cell_type": "code",
   "execution_count": 27,
   "metadata": {},
   "outputs": [],
   "source": [
    "save('./index/chis_acc.npy', accs)\n",
    "save('./index/chis_recall.npy', recalls)\n",
    "save('./index/chis_f1.npy', f1s)"
   ]
  },
  {
   "cell_type": "code",
   "execution_count": null,
   "metadata": {},
   "outputs": [],
   "source": []
  }
 ],
 "metadata": {
  "interpreter": {
   "hash": "247bb0b98561dbd1e87aec100d31597db1e4838b43ad506558e3db49908a46df"
  },
  "kernelspec": {
   "display_name": "Python 3",
   "language": "python",
   "name": "python3"
  },
  "language_info": {
   "codemirror_mode": {
    "name": "ipython",
    "version": 3
   },
   "file_extension": ".py",
   "mimetype": "text/x-python",
   "name": "python",
   "nbconvert_exporter": "python",
   "pygments_lexer": "ipython3",
   "version": "3.6.11"
  }
 },
 "nbformat": 4,
 "nbformat_minor": 4
}
